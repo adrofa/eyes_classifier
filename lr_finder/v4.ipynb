{
 "cells": [
  {
   "cell_type": "code",
   "execution_count": 1,
   "metadata": {},
   "outputs": [],
   "source": [
    "import sys\n",
    "sys.path.append(\"..\")\n",
    "\n",
    "from utils.support import pkl_load\n",
    "from train.versions.model import get_model\n",
    "from train.versions.criterion import get_criterion\n",
    "from train.versions.augmentation import get_augmentation\n",
    "from train.run import MyDataset\n",
    "\n",
    "from pathlib import Path\n",
    "from torch_lr_finder import LRFinder\n",
    "from torch.utils.data import DataLoader\n",
    "import torch\n",
    "import pandas as pd"
   ]
  },
  {
   "cell_type": "code",
   "execution_count": 2,
   "metadata": {},
   "outputs": [],
   "source": [
    "cfg = {\n",
    "    \"model_version\": 4,\n",
    "    \"criterion_version\": 1,\n",
    "    \"augmentation_version\": 1,\n",
    "    \n",
    "    \"batch_size\": 800,\n",
    "    \"n_jobs\": 4,\n",
    "    \n",
    "    \"lr_start\": 0.0001,\n",
    "    \"lr_end\": 1,\n",
    "    \"num_iter\": 100\n",
    "}"
   ]
  },
  {
   "cell_type": "code",
   "execution_count": 3,
   "metadata": {},
   "outputs": [],
   "source": [
    "model = get_model(cfg[\"model_version\"])\n",
    "criterion = get_criterion(cfg[\"criterion_version\"])\n",
    "\n",
    "dataset_df = pkl_load(Path(\"../output/crossval_split/crossval_dct.pkl\"))[1][\"train\"]\n",
    "dataset = MyDataset(dataset_df, get_augmentation(cfg[\"criterion_version\"])[\"train\"])\n",
    "dataloader = DataLoader(dataset, batch_size=cfg[\"batch_size\"],\n",
    "                        shuffle=True, num_workers=cfg[\"n_jobs\"])"
   ]
  },
  {
   "cell_type": "code",
   "execution_count": 4,
   "metadata": {},
   "outputs": [
    {
     "data": {
      "application/vnd.jupyter.widget-view+json": {
       "model_id": "0109690e83be46f5b47dd61928c0d675",
       "version_major": 2,
       "version_minor": 0
      },
      "text/plain": [
       "HBox(children=(HTML(value=''), FloatProgress(value=0.0), HTML(value='')))"
      ]
     },
     "metadata": {},
     "output_type": "display_data"
    },
    {
     "name": "stdout",
     "output_type": "stream",
     "text": [
      "\n",
      "Learning rate search finished. See the graph with {finder_name}.plot()\n"
     ]
    }
   ],
   "source": [
    "optimizer = torch.optim.Adam(params=model.parameters(), lr=cfg[\"lr_start\"])\n",
    "\n",
    "lr_finder = LRFinder(model, optimizer, criterion, device=\"cuda\")\n",
    "lr_finder.range_test(dataloader, end_lr=cfg[\"lr_end\"], num_iter=cfg[\"num_iter\"])"
   ]
  },
  {
   "cell_type": "code",
   "execution_count": 5,
   "metadata": {},
   "outputs": [
    {
     "name": "stdout",
     "output_type": "stream",
     "text": [
      "LR suggestion: steepest gradient\n",
      "Suggested LR: 1.96E-03\n"
     ]
    },
    {
     "data": {
      "image/png": "[encoded data removed]",
      "text/plain": [
       "<Figure size 432x288 with 1 Axes>"
      ]
     },
     "metadata": {
      "needs_background": "light"
     },
     "output_type": "display_data"
    },
    {
     "data": {
      "text/plain": [
       "(<AxesSubplot:xlabel='Learning rate', ylabel='Loss'>, 0.0019630406500402713)"
      ]
     },
     "execution_count": 5,
     "metadata": {},
     "output_type": "execute_result"
    }
   ],
   "source": [
    "lr_finder.plot()"
   ]
  },
  {
   "cell_type": "code",
   "execution_count": null,
   "metadata": {},
   "outputs": [],
   "source": [
    "# h = pd.DataFrame(lr_finder.history)\n",
    "# h[h[\"loss\"] == h[\"loss\"].min()]"
   ]
  }
 ],
 "metadata": {
  "kernelspec": {
   "display_name": "Python 3",
   "language": "python",
   "name": "python3"
  },
  "language_info": {
   "codemirror_mode": {
    "name": "ipython",
    "version": 3
   },
   "file_extension": ".py",
   "mimetype": "text/x-python",
   "name": "python",
   "nbconvert_exporter": "python",
   "pygments_lexer": "ipython3",
   "version": "3.8.5"
  }
 },
 "nbformat": 4,
 "nbformat_minor": 4
}
