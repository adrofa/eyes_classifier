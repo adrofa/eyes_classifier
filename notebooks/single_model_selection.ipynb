{
 "cells": [
  {
   "cell_type": "markdown",
   "metadata": {},
   "source": [
    "# Purpose\n",
    "* Test models from all of the folds on the hidden dataset;\n",
    "* select the best one;\n",
    "* check if ensembling improves metrics."
   ]
  },
  {
   "cell_type": "code",
   "execution_count": 1,
   "metadata": {},
   "outputs": [],
   "source": [
    "import sys\n",
    "sys.path.append(\"..\")"
   ]
  },
  {
   "cell_type": "code",
   "execution_count": 2,
   "metadata": {},
   "outputs": [],
   "source": [
    "from utils.support import pkl_load\n",
    "from train.run import MyDataset\n",
    "from train.versions.augmentation import get_augmentation\n",
    "from train.versions.model import get_model\n",
    "\n",
    "from pathlib import Path\n",
    "from torch.utils.data import DataLoader\n",
    "import torch\n",
    "import numpy as np\n",
    "from sklearn.metrics import log_loss\n",
    "import pandas as pd"
   ]
  },
  {
   "cell_type": "code",
   "execution_count": 3,
   "metadata": {},
   "outputs": [],
   "source": [
    "cfg = {\n",
    "    \n",
    "    \"model_version\": 4,\n",
    "    \"model_weights\": \"../output/models/hypothesis-4/fold-{fold}/model.pt\",\n",
    "    \n",
    "    \"augmentation_version\": 1,\n",
    "    \n",
    "    \"device\": \"cuda\",\n",
    "    \"batch_size\": 4000,\n",
    "    \"n_jobs\": 4,\n",
    "}"
   ]
  },
  {
   "cell_type": "code",
   "execution_count": 4,
   "metadata": {},
   "outputs": [
    {
     "data": {
      "text/html": [
       "<div>\n",
       "<style scoped>\n",
       "    .dataframe tbody tr th:only-of-type {\n",
       "        vertical-align: middle;\n",
       "    }\n",
       "\n",
       "    .dataframe tbody tr th {\n",
       "        vertical-align: top;\n",
       "    }\n",
       "\n",
       "    .dataframe thead th {\n",
       "        text-align: right;\n",
       "    }\n",
       "</style>\n",
       "<table border=\"1\" class=\"dataframe\">\n",
       "  <thead>\n",
       "    <tr style=\"text-align: right;\">\n",
       "      <th></th>\n",
       "      <th>cew_img</th>\n",
       "      <th>original_img</th>\n",
       "      <th>label</th>\n",
       "    </tr>\n",
       "  </thead>\n",
       "  <tbody>\n",
       "    <tr>\n",
       "      <th>2</th>\n",
       "      <td>../data/dataset_B_Eye_Images/closedRightEyes/c...</td>\n",
       "      <td>None</td>\n",
       "      <td>0</td>\n",
       "    </tr>\n",
       "    <tr>\n",
       "      <th>3</th>\n",
       "      <td>../data/dataset_B_Eye_Images/closedRightEyes/c...</td>\n",
       "      <td>None</td>\n",
       "      <td>0</td>\n",
       "    </tr>\n",
       "    <tr>\n",
       "      <th>8</th>\n",
       "      <td>../data/dataset_B_Eye_Images/closedLeftEyes/cl...</td>\n",
       "      <td>None</td>\n",
       "      <td>0</td>\n",
       "    </tr>\n",
       "  </tbody>\n",
       "</table>\n",
       "</div>"
      ],
      "text/plain": [
       "                                             cew_img original_img  label\n",
       "2  ../data/dataset_B_Eye_Images/closedRightEyes/c...         None      0\n",
       "3  ../data/dataset_B_Eye_Images/closedRightEyes/c...         None      0\n",
       "8  ../data/dataset_B_Eye_Images/closedLeftEyes/cl...         None      0"
      ]
     },
     "execution_count": 4,
     "metadata": {},
     "output_type": "execute_result"
    }
   ],
   "source": [
    "df = pkl_load(Path(\"../output/crossval_split/crossval_dct.pkl\"))[\"hidden\"]\n",
    "dataset = MyDataset(df, get_augmentation(cfg[\"augmentation_version\"])[\"valid\"])\n",
    "dataloader = DataLoader(dataset, batch_size=cfg[\"batch_size\"], shuffle=False, num_workers=cfg[\"n_jobs\"])\n",
    "\n",
    "df.head(3)"
   ]
  },
  {
   "cell_type": "markdown",
   "metadata": {},
   "source": [
    "## Collect Predictions"
   ]
  },
  {
   "cell_type": "code",
   "execution_count": 5,
   "metadata": {},
   "outputs": [
    {
     "data": {
      "text/html": [
       "<div>\n",
       "<style scoped>\n",
       "    .dataframe tbody tr th:only-of-type {\n",
       "        vertical-align: middle;\n",
       "    }\n",
       "\n",
       "    .dataframe tbody tr th {\n",
       "        vertical-align: top;\n",
       "    }\n",
       "\n",
       "    .dataframe thead th {\n",
       "        text-align: right;\n",
       "    }\n",
       "</style>\n",
       "<table border=\"1\" class=\"dataframe\">\n",
       "  <thead>\n",
       "    <tr style=\"text-align: right;\">\n",
       "      <th></th>\n",
       "      <th>cew_img</th>\n",
       "      <th>original_img</th>\n",
       "      <th>label</th>\n",
       "      <th>fold_1</th>\n",
       "      <th>fold_2</th>\n",
       "      <th>fold_3</th>\n",
       "      <th>fold_4</th>\n",
       "      <th>fold_5</th>\n",
       "      <th>ensemble</th>\n",
       "    </tr>\n",
       "  </thead>\n",
       "  <tbody>\n",
       "    <tr>\n",
       "      <th>2</th>\n",
       "      <td>../data/dataset_B_Eye_Images/closedRightEyes/c...</td>\n",
       "      <td>None</td>\n",
       "      <td>0</td>\n",
       "      <td>0.058650</td>\n",
       "      <td>0.090426</td>\n",
       "      <td>0.106545</td>\n",
       "      <td>5.762548e-02</td>\n",
       "      <td>0.115808</td>\n",
       "      <td>0.082597</td>\n",
       "    </tr>\n",
       "    <tr>\n",
       "      <th>3</th>\n",
       "      <td>../data/dataset_B_Eye_Images/closedRightEyes/c...</td>\n",
       "      <td>None</td>\n",
       "      <td>0</td>\n",
       "      <td>0.030063</td>\n",
       "      <td>0.105267</td>\n",
       "      <td>0.064315</td>\n",
       "      <td>5.892620e-02</td>\n",
       "      <td>0.163910</td>\n",
       "      <td>0.073215</td>\n",
       "    </tr>\n",
       "    <tr>\n",
       "      <th>8</th>\n",
       "      <td>../data/dataset_B_Eye_Images/closedLeftEyes/cl...</td>\n",
       "      <td>None</td>\n",
       "      <td>0</td>\n",
       "      <td>0.000013</td>\n",
       "      <td>0.000027</td>\n",
       "      <td>0.000040</td>\n",
       "      <td>9.897332e-07</td>\n",
       "      <td>0.000066</td>\n",
       "      <td>0.000016</td>\n",
       "    </tr>\n",
       "  </tbody>\n",
       "</table>\n",
       "</div>"
      ],
      "text/plain": [
       "                                             cew_img original_img  label  \\\n",
       "2  ../data/dataset_B_Eye_Images/closedRightEyes/c...         None      0   \n",
       "3  ../data/dataset_B_Eye_Images/closedRightEyes/c...         None      0   \n",
       "8  ../data/dataset_B_Eye_Images/closedLeftEyes/cl...         None      0   \n",
       "\n",
       "     fold_1    fold_2    fold_3        fold_4    fold_5  ensemble  \n",
       "2  0.058650  0.090426  0.106545  5.762548e-02  0.115808  0.082597  \n",
       "3  0.030063  0.105267  0.064315  5.892620e-02  0.163910  0.073215  \n",
       "8  0.000013  0.000027  0.000040  9.897332e-07  0.000066  0.000016  "
      ]
     },
     "execution_count": 5,
     "metadata": {},
     "output_type": "execute_result"
    }
   ],
   "source": [
    "folds = [1, 2, 3, 4, 5]\n",
    "ensemble_logits = torch.zeros(len(df))\n",
    "for fold in folds:\n",
    "    model = get_model(cfg[\"model_version\"], cfg[\"model_weights\"].format(fold=fold))\n",
    "    model.eval().to(cfg[\"device\"])\n",
    "    \n",
    "    with torch.no_grad():    \n",
    "        pred = np.array([])\n",
    "        for x, y in dataloader:\n",
    "            x, y = x.to(cfg[\"device\"]), y.to(cfg[\"device\"])\n",
    "            p = model.forward(x)\n",
    "            \n",
    "            ensemble_logits += p.to(\"cpu\") / len(folds)\n",
    "            \n",
    "            p = torch.sigmoid(p)\n",
    "            p = p.to(\"cpu\").numpy()\n",
    "            pred = np.append(pred, p)\n",
    "\n",
    "        df[f\"fold_{fold}\"] = pred\n",
    "\n",
    "df[\"ensemble\"] = torch.sigmoid(ensemble_logits).to(\"cpu\").numpy()\n",
    "df.head(3)"
   ]
  },
  {
   "cell_type": "markdown",
   "metadata": {},
   "source": [
    "## Estimate LogLoss"
   ]
  },
  {
   "cell_type": "code",
   "execution_count": 6,
   "metadata": {},
   "outputs": [
    {
     "name": "stdout",
     "output_type": "stream",
     "text": [
      "Best Fold-1: 0.07322567712208027\n",
      "Ensemble: 0.0690990011655575\n"
     ]
    }
   ],
   "source": [
    "loss = {}\n",
    "for fold in folds:\n",
    "    loss[fold] = log_loss(df[\"label\"], df[f\"fold_{fold}\"])\n",
    "loss = pd.Series(loss)\n",
    "print(f\"Best Fold-{loss.idxmin()}: {loss.min()}\")\n",
    "print(f\"Ensemble: {log_loss(df.label, df.ensemble)}\")"
   ]
  }
 ],
 "metadata": {
  "kernelspec": {
   "display_name": "Python 3",
   "language": "python",
   "name": "python3"
  },
  "language_info": {
   "codemirror_mode": {
    "name": "ipython",
    "version": 3
   },
   "file_extension": ".py",
   "mimetype": "text/x-python",
   "name": "python",
   "nbconvert_exporter": "python",
   "pygments_lexer": "ipython3",
   "version": "3.8.5"
  }
 },
 "nbformat": 4,
 "nbformat_minor": 4
}
