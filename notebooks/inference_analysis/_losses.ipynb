{
 "cells": [
  {
   "cell_type": "code",
   "execution_count": 1,
   "metadata": {},
   "outputs": [],
   "source": [
    "import os, sys\n",
    "os.chdir(\"..\")\n",
    "sys.path.append(\"..\")\n",
    "\n",
    "from utils.support import pkl_load\n",
    "from train.run import MyDataset\n",
    "from train.versions.augmentation import get_augmentation\n",
    "from train.versions.model import get_model\n",
    "\n",
    "import os\n",
    "from pathlib import Path\n",
    "from torch.utils.data import DataLoader\n",
    "import torch\n",
    "import numpy as np\n",
    "import matplotlib.pyplot as plt\n",
    "import cv2"
   ]
  },
  {
   "cell_type": "code",
   "execution_count": 20,
   "metadata": {},
   "outputs": [
    {
     "name": "stdout",
     "output_type": "stream",
     "text": [
      "1 - 0.785 | 0.4937687518610619 \n",
      "2 - 0.96375 | 0.1022379537772488 \n",
      "3 - 0.9725 | 0.0907153371499115 \n",
      "4 - 0.97 | 0.08921746774294795 \n",
      "5 - 0.97 | 0.08568617809048248 \n",
      "6 - 0.965 | 0.09340458868674367 \n",
      "7 - 0.96125 | 0.1071347354391017 \n"
     ]
    }
   ],
   "source": [
    "# valid metrics per hypohesis\n",
    "for h in list(range(1, 8)): # + [\"debug\"]:\n",
    "    p = pkl_load(f\"../output/models/hypothesis-{h}/fold-1/progress.pkl\")\n",
    "    print(f\"{h} - {p.valid_accuracy.max()} | {p.valid_loss.min()}\", \"\")"
   ]
  },
  {
   "cell_type": "code",
   "execution_count": 17,
   "metadata": {},
   "outputs": [
    {
     "name": "stdout",
     "output_type": "stream",
     "text": [
      "1 - 0.97 | 0.08568617809048248\n",
      "2 - 0.96875 | 0.09439045888191686\n",
      "3 - 0.96375 | 0.10262218771850712\n",
      "4 - 0.96 | 0.10195685172744788\n",
      "5 - 0.97875 | 0.06239464360918646\n"
     ]
    }
   ],
   "source": [
    "# valid metrics per fold\n",
    "h = 5\n",
    "for f in list(range(1, 6)): # + [\"debug\"]:\n",
    "    p = pkl_load(f\"../output/models/hypothesis-{h}/fold-{f}/progress.pkl\")\n",
    "    print(f\"{f} - {p.valid_accuracy.max()} | {p.valid_loss.min()}\")"
   ]
  },
  {
   "cell_type": "code",
   "execution_count": 19,
   "metadata": {},
   "outputs": [
    {
     "name": "stdout",
     "output_type": "stream",
     "text": [
      "1 - 0.984375 | 0.05525702387623554\n",
      "2 - 0.985625 | 0.04988225664510223\n",
      "3 - 0.9746875 | 0.07536254067994917\n",
      "4 - 0.9734375 | 0.07856304098562873\n",
      "5 - 0.9765625 | 0.07142878001491916\n"
     ]
    }
   ],
   "source": [
    "# train metrics per fold\n",
    "h = 5\n",
    "for f in list(range(1, 6)): # + [\"debug\"]:\n",
    "    p = pkl_load(f\"../output/models/hypothesis-{h}/fold-{f}/progress.pkl\")\n",
    "    print(f\"{f} - {p.train_accuracy.max()} | {p.train_loss.min()}\")"
   ]
  },
  {
   "cell_type": "code",
   "execution_count": null,
   "metadata": {},
   "outputs": [],
   "source": [
    "p4[p4[\"valid_loss\"] == p4[\"valid_loss\"].min()]"
   ]
  },
  {
   "cell_type": "code",
   "execution_count": null,
   "metadata": {},
   "outputs": [],
   "source": [
    "p4[p4[\"train_loss\"] == p4[\"train_loss\"].min()]"
   ]
  },
  {
   "cell_type": "code",
   "execution_count": null,
   "metadata": {},
   "outputs": [],
   "source": [
    "p4"
   ]
  },
  {
   "cell_type": "code",
   "execution_count": null,
   "metadata": {},
   "outputs": [],
   "source": [
    "p4[\"train_loss\"].min()"
   ]
  },
  {
   "cell_type": "code",
   "execution_count": null,
   "metadata": {},
   "outputs": [],
   "source": [
    "p4[\"train_accuracy\"].max()"
   ]
  },
  {
   "cell_type": "code",
   "execution_count": null,
   "metadata": {},
   "outputs": [],
   "source": [
    "p4[\"valid_accuracy\"].max()"
   ]
  },
  {
   "cell_type": "code",
   "execution_count": null,
   "metadata": {},
   "outputs": [],
   "source": [
    "cfg = {\n",
    "    \"model_version\": 1,\n",
    "    \"model_weights\": \"../output/models/v-1/fold-1/model.pt\",\n",
    "    \n",
    "    \"augmentation_version\": 1,\n",
    "    \n",
    "    \"device\": \"cuda\",\n",
    "    \"batch_size\": 4000,\n",
    "    \"n_jobs\": 4,\n",
    "}"
   ]
  },
  {
   "cell_type": "code",
   "execution_count": null,
   "metadata": {},
   "outputs": [],
   "source": [
    "dct = pkl_load(Path(\"../output/crossval_split/crossval_dct.pkl\"))\n",
    "\n",
    "df = dct[1][\"valid\"]\n",
    "dataset = MyDataset(df, get_augmentation(cfg[\"augmentation_version\"])[\"valid\"])\n",
    "dataloader = DataLoader(dataset, batch_size=cfg[\"batch_size\"], shuffle=False, num_workers=cfg[\"n_jobs\"])"
   ]
  },
  {
   "cell_type": "code",
   "execution_count": null,
   "metadata": {},
   "outputs": [],
   "source": [
    "model = get_model(cfg[\"model_version\"], cfg[\"model_weights\"])\n",
    "model.to(cfg[\"device\"])\n",
    "pass"
   ]
  },
  {
   "cell_type": "code",
   "execution_count": null,
   "metadata": {},
   "outputs": [],
   "source": [
    "with torch.no_grad():\n",
    "    model.eval()\n",
    "    \n",
    "    pred = np.array([])\n",
    "    for x, y in dataloader:\n",
    "        x, y = x.to(cfg[\"device\"]), y.to(cfg[\"device\"])\n",
    "        p = model.forward(x)\n",
    "        p = torch.sigmoid(p)\n",
    "        p = p.to(\"cpu\").numpy()\n",
    "        pred = np.append(pred, p)\n",
    "df[\"pred_proba\"] = pred\n",
    "df[\"pred\"] = (df[\"pred_proba\"] > 0.5).astype(int)"
   ]
  },
  {
   "cell_type": "code",
   "execution_count": null,
   "metadata": {
    "scrolled": false
   },
   "outputs": [],
   "source": [
    "def preview(df, ncols, size):\n",
    "    nrows = int(len(df) / ncols) + (len(df) % ncols > 0)\n",
    "    fig, axs = plt.subplots(nrows=nrows, ncols=ncols,\n",
    "                            figsize=(ncols*size, nrows*size))\n",
    "    fig.patch.set_facecolor('white')\n",
    "    for ax in axs.flatten():\n",
    "        ax.axis('off')\n",
    "    for ax, (_, row) in zip(axs.flatten(), df.iterrows()):\n",
    "        img = cv2.imread(str(row[\"cew_img\"]), cv2.IMREAD_GRAYSCALE)\n",
    "        ax.imshow(img, cmap=plt.get_cmap('gray'))\n",
    "        ax.set_title(f\"True-{row.label} | Pred-{round(row.pred_proba, 3)}\")\n",
    "\n",
    "    plt.tight_layout()\n",
    "    plt.show()"
   ]
  },
  {
   "cell_type": "code",
   "execution_count": null,
   "metadata": {
    "scrolled": false
   },
   "outputs": [],
   "source": [
    "preview_df = df[(df[\"label\"] != df[\"pred\"]) & (df[\"label\"] == 1)]\n",
    "print(f\"Total images: {preview_df.shape[0]}\")\n",
    "preview(preview_df, 5, 2)"
   ]
  },
  {
   "cell_type": "code",
   "execution_count": null,
   "metadata": {},
   "outputs": [],
   "source": [
    "preview_df = df[(df[\"label\"] != df[\"pred\"]) & (df[\"label\"] == 0)]\n",
    "print(f\"Total images: {preview_df.shape[0]}\")\n",
    "preview(preview_df, 5, 2)"
   ]
  },
  {
   "cell_type": "code",
   "execution_count": null,
   "metadata": {},
   "outputs": [],
   "source": [
    "preview_df = df[\n",
    "    (df[\"pred\"] == 1) &\n",
    "    \n",
    "    (df[\"pred\"] == df[\"label\"]) &\n",
    "    (df[\"pred_proba\"] > 0.3) &\n",
    "    (df[\"pred_proba\"] < 0.7)\n",
    "]\n",
    "print(f\"Total images: {preview_df.shape[0]}\")\n",
    "preview(preview_df, 5, 2)"
   ]
  },
  {
   "cell_type": "code",
   "execution_count": null,
   "metadata": {},
   "outputs": [],
   "source": [
    "preview_df = df[\n",
    "    (df[\"pred\"] == 0) &\n",
    "    \n",
    "    (df[\"pred\"] == df[\"label\"]) &\n",
    "    (df[\"pred_proba\"] > 0.3) &\n",
    "    (df[\"pred_proba\"] < 0.7)\n",
    "]\n",
    "print(f\"Total images: {preview_df.shape[0]}\")\n",
    "preview(preview_df, 5, 2)"
   ]
  }
 ],
 "metadata": {
  "kernelspec": {
   "display_name": "Python 3",
   "language": "python",
   "name": "python3"
  },
  "language_info": {
   "codemirror_mode": {
    "name": "ipython",
    "version": 3
   },
   "file_extension": ".py",
   "mimetype": "text/x-python",
   "name": "python",
   "nbconvert_exporter": "python",
   "pygments_lexer": "ipython3",
   "version": "3.8.5"
  }
 },
 "nbformat": 4,
 "nbformat_minor": 4
}
