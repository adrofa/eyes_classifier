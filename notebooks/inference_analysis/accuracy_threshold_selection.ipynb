{
 "cells": [
  {
   "cell_type": "markdown",
   "metadata": {},
   "source": [
    "# Purpose\n",
    "* select logits' threshold for class prediction."
   ]
  },
  {
   "cell_type": "code",
   "execution_count": 1,
   "metadata": {},
   "outputs": [],
   "source": [
    "import os, sys\n",
    "os.chdir(\"..\")\n",
    "sys.path.append(\"..\")"
   ]
  },
  {
   "cell_type": "code",
   "execution_count": 2,
   "metadata": {},
   "outputs": [],
   "source": [
    "from utils.support import pkl_load\n",
    "from train.run import MyDataset\n",
    "from train.versions.augmentation import get_augmentation\n",
    "from train.versions.model import get_model\n",
    "\n",
    "from pathlib import Path\n",
    "from torch.utils.data import DataLoader\n",
    "import torch\n",
    "import numpy as np\n",
    "from sklearn.metrics import log_loss\n",
    "import pandas as pd\n",
    "import matplotlib.pyplot as plt"
   ]
  },
  {
   "cell_type": "code",
   "execution_count": 3,
   "metadata": {},
   "outputs": [],
   "source": [
    "cfg = {\n",
    "    \n",
    "    \"model_version\": 4,\n",
    "    \"model_weights\": \"../output/models/hypothesis-4/fold-{fold}/model.pt\",\n",
    "    \n",
    "    \"augmentation_version\": 1,\n",
    "    \n",
    "    \"device\": \"cuda\",\n",
    "    \"batch_size\": 4000,\n",
    "    \"n_jobs\": 4,\n",
    "}"
   ]
  },
  {
   "cell_type": "markdown",
   "metadata": {},
   "source": [
    "## Collect Predictions"
   ]
  },
  {
   "cell_type": "code",
   "execution_count": 4,
   "metadata": {},
   "outputs": [
    {
     "data": {
      "text/html": [
       "<div>\n",
       "<style scoped>\n",
       "    .dataframe tbody tr th:only-of-type {\n",
       "        vertical-align: middle;\n",
       "    }\n",
       "\n",
       "    .dataframe tbody tr th {\n",
       "        vertical-align: top;\n",
       "    }\n",
       "\n",
       "    .dataframe thead th {\n",
       "        text-align: right;\n",
       "    }\n",
       "</style>\n",
       "<table border=\"1\" class=\"dataframe\">\n",
       "  <thead>\n",
       "    <tr style=\"text-align: right;\">\n",
       "      <th></th>\n",
       "      <th>cew_img</th>\n",
       "      <th>original_img</th>\n",
       "      <th>label</th>\n",
       "      <th>pred</th>\n",
       "    </tr>\n",
       "  </thead>\n",
       "  <tbody>\n",
       "    <tr>\n",
       "      <th>0</th>\n",
       "      <td>../data/dataset_B_Eye_Images/closedLeftEyes/cl...</td>\n",
       "      <td>../data/EyesDataset/003079.jpg</td>\n",
       "      <td>0</td>\n",
       "      <td>0.007419</td>\n",
       "    </tr>\n",
       "    <tr>\n",
       "      <th>30</th>\n",
       "      <td>../data/dataset_B_Eye_Images/openLeftEyes/Tama...</td>\n",
       "      <td>../data/EyesDataset/002960.jpg</td>\n",
       "      <td>1</td>\n",
       "      <td>0.999992</td>\n",
       "    </tr>\n",
       "    <tr>\n",
       "      <th>36</th>\n",
       "      <td>../data/dataset_B_Eye_Images/openRightEyes/Jos...</td>\n",
       "      <td>../data/EyesDataset/002743.jpg</td>\n",
       "      <td>1</td>\n",
       "      <td>0.999921</td>\n",
       "    </tr>\n",
       "  </tbody>\n",
       "</table>\n",
       "</div>"
      ],
      "text/plain": [
       "                                              cew_img  \\\n",
       "0   ../data/dataset_B_Eye_Images/closedLeftEyes/cl...   \n",
       "30  ../data/dataset_B_Eye_Images/openLeftEyes/Tama...   \n",
       "36  ../data/dataset_B_Eye_Images/openRightEyes/Jos...   \n",
       "\n",
       "                      original_img  label      pred  \n",
       "0   ../data/EyesDataset/003079.jpg      0  0.007419  \n",
       "30  ../data/EyesDataset/002960.jpg      1  0.999992  \n",
       "36  ../data/EyesDataset/002743.jpg      1  0.999921  "
      ]
     },
     "execution_count": 4,
     "metadata": {},
     "output_type": "execute_result"
    }
   ],
   "source": [
    "crossval_dct = pkl_load(Path(\"../output/crossval_split/crossval_dct.pkl\"))\n",
    "\n",
    "folds = [1, 2, 3, 4, 5]\n",
    "for fold in folds:\n",
    "    df = crossval_dct[fold][\"valid\"]\n",
    "    dataset = MyDataset(df, get_augmentation(cfg[\"augmentation_version\"])[\"valid\"])\n",
    "    dataloader = DataLoader(dataset, batch_size=cfg[\"batch_size\"], shuffle=False, num_workers=cfg[\"n_jobs\"])\n",
    "    \n",
    "    model = get_model(cfg[\"model_version\"], cfg[\"model_weights\"].format(fold=fold))\n",
    "    model.eval().to(cfg[\"device\"])\n",
    "    \n",
    "    with torch.no_grad():    \n",
    "        pred = np.array([])\n",
    "        for x, y in dataloader:\n",
    "            x, y = x.to(cfg[\"device\"]), y.to(cfg[\"device\"])\n",
    "            p = model.forward(x)            \n",
    "            p = torch.sigmoid(p)\n",
    "            p = p.to(\"cpu\").numpy()\n",
    "            pred = np.append(pred, p)\n",
    "\n",
    "        df[\"pred\"] = pred\n",
    "\n",
    "crossval_dct[1][\"valid\"].head(3)"
   ]
  },
  {
   "cell_type": "markdown",
   "metadata": {},
   "source": [
    "## Test Ths"
   ]
  },
  {
   "cell_type": "code",
   "execution_count": 5,
   "metadata": {},
   "outputs": [],
   "source": [
    "ths_lst = np.linspace(0, 1, 101)[1:-1]\n",
    "res = {}\n",
    "for ths in ths_lst:\n",
    "    res[ths] = {}\n",
    "    for fold in folds:\n",
    "        df = crossval_dct[fold][\"valid\"]\n",
    "        res[ths][fold] = (df[\"label\"] == (df[\"pred\"] > ths)).mean()\n",
    "\n",
    "res = pd.DataFrame(res).T\n",
    "res[\"mean\"] = res.mean(axis=1)"
   ]
  },
  {
   "cell_type": "code",
   "execution_count": 6,
   "metadata": {},
   "outputs": [
    {
     "data": {
      "image/png": "[encoded data removed]",
      "text/plain": [
       "<Figure size 864x288 with 1 Axes>"
      ]
     },
     "metadata": {
      "needs_background": "light"
     },
     "output_type": "display_data"
    }
   ],
   "source": [
    "plt.figure(figsize=(12, 4))\n",
    "for col in res.columns:\n",
    "    plt.plot(res.index, res[col],\n",
    "             label=col if col == \"mean\" else f\"fold-{col}\",\n",
    "             alpha=1 if col == \"mean\" else 0.25)\n",
    "plt.ylabel(\"accuracy\")\n",
    "plt.xlabel(\"logit-threshold\")\n",
    "plt.legend()\n",
    "plt.savefig(\"../notebooks/inference_analysis/preview/accuracy_ths_selection.png\", facecolor=\"white\")\n",
    "plt.show()\n",
    "plt.close()"
   ]
  },
  {
   "cell_type": "code",
   "execution_count": 7,
   "metadata": {},
   "outputs": [
    {
     "data": {
      "text/html": [
       "<div>\n",
       "<style scoped>\n",
       "    .dataframe tbody tr th:only-of-type {\n",
       "        vertical-align: middle;\n",
       "    }\n",
       "\n",
       "    .dataframe tbody tr th {\n",
       "        vertical-align: top;\n",
       "    }\n",
       "\n",
       "    .dataframe thead th {\n",
       "        text-align: right;\n",
       "    }\n",
       "</style>\n",
       "<table border=\"1\" class=\"dataframe\">\n",
       "  <thead>\n",
       "    <tr style=\"text-align: right;\">\n",
       "      <th></th>\n",
       "      <th>1</th>\n",
       "      <th>2</th>\n",
       "      <th>3</th>\n",
       "      <th>4</th>\n",
       "      <th>5</th>\n",
       "      <th>mean</th>\n",
       "    </tr>\n",
       "  </thead>\n",
       "  <tbody>\n",
       "    <tr>\n",
       "      <th>0.59</th>\n",
       "      <td>0.975</td>\n",
       "      <td>0.97250</td>\n",
       "      <td>0.96750</td>\n",
       "      <td>0.97125</td>\n",
       "      <td>0.9775</td>\n",
       "      <td>0.97275</td>\n",
       "    </tr>\n",
       "    <tr>\n",
       "      <th>0.63</th>\n",
       "      <td>0.975</td>\n",
       "      <td>0.97375</td>\n",
       "      <td>0.96875</td>\n",
       "      <td>0.97125</td>\n",
       "      <td>0.9750</td>\n",
       "      <td>0.97275</td>\n",
       "    </tr>\n",
       "  </tbody>\n",
       "</table>\n",
       "</div>"
      ],
      "text/plain": [
       "          1        2        3        4       5     mean\n",
       "0.59  0.975  0.97250  0.96750  0.97125  0.9775  0.97275\n",
       "0.63  0.975  0.97375  0.96875  0.97125  0.9750  0.97275"
      ]
     },
     "execution_count": 7,
     "metadata": {},
     "output_type": "execute_result"
    }
   ],
   "source": [
    "res[res[\"mean\"] == res[\"mean\"].max()]"
   ]
  },
  {
   "cell_type": "markdown",
   "metadata": {},
   "source": [
    "# Test Ths - 2"
   ]
  },
  {
   "cell_type": "code",
   "execution_count": 8,
   "metadata": {},
   "outputs": [],
   "source": [
    "ths_lst = np.linspace(0.3, 0.7, 1001)[1:-1]\n",
    "res2 = {}\n",
    "for ths in ths_lst:\n",
    "    res2[ths] = {}\n",
    "    for fold in folds:\n",
    "        df = crossval_dct[fold][\"valid\"]\n",
    "        res2[ths][fold] = (df[\"label\"] == (df[\"pred\"] > ths)).mean()\n",
    "res2 = pd.DataFrame(res2).T\n",
    "res2[\"mean\"] = res2.mean(axis=1)"
   ]
  },
  {
   "cell_type": "code",
   "execution_count": 9,
   "metadata": {},
   "outputs": [
    {
     "data": {
      "image/png": "[encoded data removed]",
      "text/plain": [
       "<Figure size 864x288 with 1 Axes>"
      ]
     },
     "metadata": {
      "needs_background": "light"
     },
     "output_type": "display_data"
    }
   ],
   "source": [
    "plt.figure(figsize=(12, 4))\n",
    "for col in res2.columns:\n",
    "    plt.plot(res2.index, res2[col],\n",
    "             label=col if col == \"mean\" else f\"fold-{col}\",\n",
    "             alpha=1 if col == \"mean\" else 0.25)\n",
    "plt.ylabel(\"accuracy\")\n",
    "plt.xlabel(\"logit-threshold\")\n",
    "plt.legend()\n",
    "plt.savefig(\"../notebooks/inference_analysis/preview/accuracy_ths_selection_2.png\", facecolor=\"white\")\n",
    "plt.show()\n",
    "plt.close()"
   ]
  },
  {
   "cell_type": "code",
   "execution_count": 10,
   "metadata": {},
   "outputs": [
    {
     "data": {
      "text/html": [
       "<div>\n",
       "<style scoped>\n",
       "    .dataframe tbody tr th:only-of-type {\n",
       "        vertical-align: middle;\n",
       "    }\n",
       "\n",
       "    .dataframe tbody tr th {\n",
       "        vertical-align: top;\n",
       "    }\n",
       "\n",
       "    .dataframe thead th {\n",
       "        text-align: right;\n",
       "    }\n",
       "</style>\n",
       "<table border=\"1\" class=\"dataframe\">\n",
       "  <thead>\n",
       "    <tr style=\"text-align: right;\">\n",
       "      <th></th>\n",
       "      <th>1</th>\n",
       "      <th>2</th>\n",
       "      <th>3</th>\n",
       "      <th>4</th>\n",
       "      <th>5</th>\n",
       "      <th>mean</th>\n",
       "    </tr>\n",
       "  </thead>\n",
       "  <tbody>\n",
       "    <tr>\n",
       "      <th>0.5904</th>\n",
       "      <td>0.975</td>\n",
       "      <td>0.97375</td>\n",
       "      <td>0.9675</td>\n",
       "      <td>0.97125</td>\n",
       "      <td>0.9775</td>\n",
       "      <td>0.973</td>\n",
       "    </tr>\n",
       "    <tr>\n",
       "      <th>0.5908</th>\n",
       "      <td>0.975</td>\n",
       "      <td>0.97375</td>\n",
       "      <td>0.9675</td>\n",
       "      <td>0.97125</td>\n",
       "      <td>0.9775</td>\n",
       "      <td>0.973</td>\n",
       "    </tr>\n",
       "    <tr>\n",
       "      <th>0.5912</th>\n",
       "      <td>0.975</td>\n",
       "      <td>0.97375</td>\n",
       "      <td>0.9675</td>\n",
       "      <td>0.97125</td>\n",
       "      <td>0.9775</td>\n",
       "      <td>0.973</td>\n",
       "    </tr>\n",
       "    <tr>\n",
       "      <th>0.5916</th>\n",
       "      <td>0.975</td>\n",
       "      <td>0.97375</td>\n",
       "      <td>0.9675</td>\n",
       "      <td>0.97125</td>\n",
       "      <td>0.9775</td>\n",
       "      <td>0.973</td>\n",
       "    </tr>\n",
       "    <tr>\n",
       "      <th>0.5920</th>\n",
       "      <td>0.975</td>\n",
       "      <td>0.97375</td>\n",
       "      <td>0.9675</td>\n",
       "      <td>0.97125</td>\n",
       "      <td>0.9775</td>\n",
       "      <td>0.973</td>\n",
       "    </tr>\n",
       "    <tr>\n",
       "      <th>0.5924</th>\n",
       "      <td>0.975</td>\n",
       "      <td>0.97375</td>\n",
       "      <td>0.9675</td>\n",
       "      <td>0.97125</td>\n",
       "      <td>0.9775</td>\n",
       "      <td>0.973</td>\n",
       "    </tr>\n",
       "    <tr>\n",
       "      <th>0.5928</th>\n",
       "      <td>0.975</td>\n",
       "      <td>0.97375</td>\n",
       "      <td>0.9675</td>\n",
       "      <td>0.97125</td>\n",
       "      <td>0.9775</td>\n",
       "      <td>0.973</td>\n",
       "    </tr>\n",
       "    <tr>\n",
       "      <th>0.5932</th>\n",
       "      <td>0.975</td>\n",
       "      <td>0.97375</td>\n",
       "      <td>0.9675</td>\n",
       "      <td>0.97125</td>\n",
       "      <td>0.9775</td>\n",
       "      <td>0.973</td>\n",
       "    </tr>\n",
       "    <tr>\n",
       "      <th>0.5936</th>\n",
       "      <td>0.975</td>\n",
       "      <td>0.97375</td>\n",
       "      <td>0.9675</td>\n",
       "      <td>0.97125</td>\n",
       "      <td>0.9775</td>\n",
       "      <td>0.973</td>\n",
       "    </tr>\n",
       "    <tr>\n",
       "      <th>0.5940</th>\n",
       "      <td>0.975</td>\n",
       "      <td>0.97375</td>\n",
       "      <td>0.9675</td>\n",
       "      <td>0.97125</td>\n",
       "      <td>0.9775</td>\n",
       "      <td>0.973</td>\n",
       "    </tr>\n",
       "    <tr>\n",
       "      <th>0.6248</th>\n",
       "      <td>0.975</td>\n",
       "      <td>0.97375</td>\n",
       "      <td>0.9700</td>\n",
       "      <td>0.97125</td>\n",
       "      <td>0.9750</td>\n",
       "      <td>0.973</td>\n",
       "    </tr>\n",
       "  </tbody>\n",
       "</table>\n",
       "</div>"
      ],
      "text/plain": [
       "            1        2       3        4       5   mean\n",
       "0.5904  0.975  0.97375  0.9675  0.97125  0.9775  0.973\n",
       "0.5908  0.975  0.97375  0.9675  0.97125  0.9775  0.973\n",
       "0.5912  0.975  0.97375  0.9675  0.97125  0.9775  0.973\n",
       "0.5916  0.975  0.97375  0.9675  0.97125  0.9775  0.973\n",
       "0.5920  0.975  0.97375  0.9675  0.97125  0.9775  0.973\n",
       "0.5924  0.975  0.97375  0.9675  0.97125  0.9775  0.973\n",
       "0.5928  0.975  0.97375  0.9675  0.97125  0.9775  0.973\n",
       "0.5932  0.975  0.97375  0.9675  0.97125  0.9775  0.973\n",
       "0.5936  0.975  0.97375  0.9675  0.97125  0.9775  0.973\n",
       "0.5940  0.975  0.97375  0.9675  0.97125  0.9775  0.973\n",
       "0.6248  0.975  0.97375  0.9700  0.97125  0.9750  0.973"
      ]
     },
     "execution_count": 10,
     "metadata": {},
     "output_type": "execute_result"
    }
   ],
   "source": [
    "res2[res2[\"mean\"] == res2[\"mean\"].max()]"
   ]
  }
 ],
 "metadata": {
  "kernelspec": {
   "display_name": "Python 3",
   "language": "python",
   "name": "python3"
  },
  "language_info": {
   "codemirror_mode": {
    "name": "ipython",
    "version": 3
   },
   "file_extension": ".py",
   "mimetype": "text/x-python",
   "name": "python",
   "nbconvert_exporter": "python",
   "pygments_lexer": "ipython3",
   "version": "3.8.5"
  }
 },
 "nbformat": 4,
 "nbformat_minor": 4
}
