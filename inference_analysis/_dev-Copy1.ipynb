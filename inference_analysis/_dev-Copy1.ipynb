{
 "cells": [
  {
   "cell_type": "code",
   "execution_count": 2,
   "metadata": {},
   "outputs": [],
   "source": [
    "import sys\n",
    "sys.path.append(\"..\")\n",
    "\n",
    "from utils.support import pkl_load\n",
    "from train.run import MyDataset\n",
    "from train.versions.augmentation import get_augmentation\n",
    "from train.versions.model import get_model\n",
    "\n",
    "import os\n",
    "from pathlib import Path\n",
    "from torch.utils.data import DataLoader\n",
    "import torch\n",
    "import numpy as np\n",
    "import matplotlib.pyplot as plt\n",
    "import cv2"
   ]
  },
  {
   "cell_type": "code",
   "execution_count": 8,
   "metadata": {},
   "outputs": [],
   "source": [
    "p2 = pkl_load(\"../output/models/v-2/fold-1/progress.pkl\")\n",
    "p3 = pkl_load(\"../output/models/v-3/fold-1/progress.pkl\")"
   ]
  },
  {
   "cell_type": "code",
   "execution_count": 12,
   "metadata": {},
   "outputs": [
    {
     "data": {
      "text/plain": [
       "0.9865625"
      ]
     },
     "execution_count": 12,
     "metadata": {},
     "output_type": "execute_result"
    }
   ],
   "source": [
    "p2[\"train_accuracy\"].max()"
   ]
  },
  {
   "cell_type": "code",
   "execution_count": 10,
   "metadata": {},
   "outputs": [
    {
     "data": {
      "text/plain": [
       "0.040022454233737174"
      ]
     },
     "execution_count": 10,
     "metadata": {},
     "output_type": "execute_result"
    }
   ],
   "source": [
    "p2[\"train_loss\"].min()"
   ]
  },
  {
   "cell_type": "code",
   "execution_count": 11,
   "metadata": {},
   "outputs": [
    {
     "data": {
      "text/plain": [
       "0.04672166628116406"
      ]
     },
     "execution_count": 11,
     "metadata": {},
     "output_type": "execute_result"
    }
   ],
   "source": [
    "p3[\"train_loss\"].min()"
   ]
  },
  {
   "cell_type": "code",
   "execution_count": 13,
   "metadata": {},
   "outputs": [
    {
     "data": {
      "text/plain": [
       "0.98375"
      ]
     },
     "execution_count": 13,
     "metadata": {},
     "output_type": "execute_result"
    }
   ],
   "source": [
    "p3[\"train_accuracy\"].max()"
   ]
  },
  {
   "cell_type": "code",
   "execution_count": 14,
   "metadata": {},
   "outputs": [
    {
     "data": {
      "text/plain": [
       "0.95875"
      ]
     },
     "execution_count": 14,
     "metadata": {},
     "output_type": "execute_result"
    }
   ],
   "source": [
    "p3[\"valid_accuracy\"].max()"
   ]
  },
  {
   "cell_type": "code",
   "execution_count": null,
   "metadata": {},
   "outputs": [],
   "source": [
    "cfg = {\n",
    "    \"model_version\": 1,\n",
    "    \"model_weights\": \"../output/models/v-1/fold-1/model.pt\",\n",
    "    \n",
    "    \"augmentation_version\": 1,\n",
    "    \n",
    "    \"device\": \"cuda\",\n",
    "    \"batch_size\": 4000,\n",
    "    \"n_jobs\": 4,\n",
    "}"
   ]
  },
  {
   "cell_type": "code",
   "execution_count": null,
   "metadata": {},
   "outputs": [],
   "source": [
    "dct = pkl_load(Path(\"../output/crossval_split/crossval_dct.pkl\"))\n",
    "\n",
    "df = dct[1][\"valid\"]\n",
    "dataset = MyDataset(df, get_augmentation(cfg[\"augmentation_version\"])[\"valid\"])\n",
    "dataloader = DataLoader(dataset, batch_size=cfg[\"batch_size\"], shuffle=False, num_workers=cfg[\"n_jobs\"])"
   ]
  },
  {
   "cell_type": "code",
   "execution_count": null,
   "metadata": {},
   "outputs": [],
   "source": [
    "model = get_model(cfg[\"model_version\"], cfg[\"model_weights\"])\n",
    "model.to(cfg[\"device\"])\n",
    "pass"
   ]
  },
  {
   "cell_type": "code",
   "execution_count": null,
   "metadata": {},
   "outputs": [],
   "source": [
    "with torch.no_grad():\n",
    "    model.eval()\n",
    "    \n",
    "    pred = np.array([])\n",
    "    for x, y in dataloader:\n",
    "        x, y = x.to(cfg[\"device\"]), y.to(cfg[\"device\"])\n",
    "        p = model.forward(x)\n",
    "        p = torch.sigmoid(p)\n",
    "        p = p.to(\"cpu\").numpy()\n",
    "        pred = np.append(pred, p)\n",
    "df[\"pred_proba\"] = pred\n",
    "df[\"pred\"] = (df[\"pred_proba\"] > 0.5).astype(int)"
   ]
  },
  {
   "cell_type": "code",
   "execution_count": null,
   "metadata": {
    "scrolled": false
   },
   "outputs": [],
   "source": [
    "def preview(df, ncols, size):\n",
    "    nrows = int(len(df) / ncols) + (len(df) % ncols > 0)\n",
    "    fig, axs = plt.subplots(nrows=nrows, ncols=ncols,\n",
    "                            figsize=(ncols*size, nrows*size))\n",
    "    fig.patch.set_facecolor('white')\n",
    "    for ax in axs.flatten():\n",
    "        ax.axis('off')\n",
    "    for ax, (_, row) in zip(axs.flatten(), df.iterrows()):\n",
    "        img = cv2.imread(str(row[\"cew_img\"]), cv2.IMREAD_GRAYSCALE)\n",
    "        ax.imshow(img, cmap=plt.get_cmap('gray'))\n",
    "        ax.set_title(f\"True-{row.label} | Pred-{round(row.pred_proba, 3)}\")\n",
    "\n",
    "    plt.tight_layout()\n",
    "    plt.show()"
   ]
  },
  {
   "cell_type": "code",
   "execution_count": null,
   "metadata": {
    "scrolled": false
   },
   "outputs": [],
   "source": [
    "preview_df = df[(df[\"label\"] != df[\"pred\"]) & (df[\"label\"] == 1)]\n",
    "print(f\"Total images: {preview_df.shape[0]}\")\n",
    "preview(preview_df, 5, 2)"
   ]
  },
  {
   "cell_type": "code",
   "execution_count": null,
   "metadata": {},
   "outputs": [],
   "source": [
    "preview_df = df[(df[\"label\"] != df[\"pred\"]) & (df[\"label\"] == 0)]\n",
    "print(f\"Total images: {preview_df.shape[0]}\")\n",
    "preview(preview_df, 5, 2)"
   ]
  },
  {
   "cell_type": "code",
   "execution_count": null,
   "metadata": {},
   "outputs": [],
   "source": [
    "preview_df = df[\n",
    "    (df[\"pred\"] == 1) &\n",
    "    \n",
    "    (df[\"pred\"] == df[\"label\"]) &\n",
    "    (df[\"pred_proba\"] > 0.3) &\n",
    "    (df[\"pred_proba\"] < 0.7)\n",
    "]\n",
    "print(f\"Total images: {preview_df.shape[0]}\")\n",
    "preview(preview_df, 5, 2)"
   ]
  },
  {
   "cell_type": "code",
   "execution_count": null,
   "metadata": {},
   "outputs": [],
   "source": [
    "preview_df = df[\n",
    "    (df[\"pred\"] == 0) &\n",
    "    \n",
    "    (df[\"pred\"] == df[\"label\"]) &\n",
    "    (df[\"pred_proba\"] > 0.3) &\n",
    "    (df[\"pred_proba\"] < 0.7)\n",
    "]\n",
    "print(f\"Total images: {preview_df.shape[0]}\")\n",
    "preview(preview_df, 5, 2)"
   ]
  }
 ],
 "metadata": {
  "kernelspec": {
   "display_name": "Python 3",
   "language": "python",
   "name": "python3"
  },
  "language_info": {
   "codemirror_mode": {
    "name": "ipython",
    "version": 3
   },
   "file_extension": ".py",
   "mimetype": "text/x-python",
   "name": "python",
   "nbconvert_exporter": "python",
   "pygments_lexer": "ipython3",
   "version": "3.8.5"
  }
 },
 "nbformat": 4,
 "nbformat_minor": 4
}
